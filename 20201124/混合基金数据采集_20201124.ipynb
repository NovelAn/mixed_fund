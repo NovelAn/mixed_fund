{
 "cells": [
  {
   "cell_type": "code",
   "execution_count": 2,
   "metadata": {},
   "outputs": [],
   "source": [
    "from bs4 import BeautifulSoup\n",
    "import pandas as pd\n",
    "import numpy as np\n",
    "import getfundinfo\n",
    "import getfundshareholds\n",
    "import time\n",
    "import datetime"
   ]
  },
  {
   "cell_type": "markdown",
   "metadata": {},
   "source": [
    "# 数据采集"
   ]
  },
  {
   "cell_type": "markdown",
   "metadata": {},
   "source": [
    "## 提取基金主页信息\n",
    "通过爬取天天基金网混合基金网站，截取近2年累计收益率前100名的基金数据"
   ]
  },
  {
   "cell_type": "code",
   "execution_count": 3,
   "metadata": {
    "run_control": {
     "marked": false
    }
   },
   "outputs": [],
   "source": [
    "url = 'http://fund.eastmoney.com/trade/hh.html'\n",
    "fund_page = getfundinfo.Getfund(url=url,sortby='近2年')\n",
    "td_list,f_name_urls,table_heads = fund_page.get_fund_info()\n",
    "td_records = fund_page.split_dataset(td_list,15)"
   ]
  },
  {
   "cell_type": "code",
   "execution_count": 4,
   "metadata": {
    "hide_output": true,
    "run_control": {
     "marked": true
    },
    "scrolled": false
   },
   "outputs": [
    {
     "data": {
      "text/html": [
       "<div>\n",
       "<style scoped>\n",
       "    .dataframe tbody tr th:only-of-type {\n",
       "        vertical-align: middle;\n",
       "    }\n",
       "\n",
       "    .dataframe tbody tr th {\n",
       "        vertical-align: top;\n",
       "    }\n",
       "\n",
       "    .dataframe thead th {\n",
       "        text-align: right;\n",
       "    }\n",
       "</style>\n",
       "<table border=\"1\" class=\"dataframe\">\n",
       "  <thead>\n",
       "    <tr style=\"text-align: right;\">\n",
       "      <th></th>\n",
       "      <th>基金代码</th>\n",
       "      <th>基金名称</th>\n",
       "      <th>单位净值|日期</th>\n",
       "      <th>日增长率</th>\n",
       "      <th>近1周</th>\n",
       "      <th>近1月</th>\n",
       "      <th>近3月</th>\n",
       "      <th>近6月</th>\n",
       "      <th>近1年</th>\n",
       "      <th>近2年</th>\n",
       "      <th>近3年</th>\n",
       "      <th>今年来</th>\n",
       "      <th>成立来</th>\n",
       "      <th>手续费|起购金额</th>\n",
       "      <th>操作</th>\n",
       "      <th>基金链接</th>\n",
       "    </tr>\n",
       "  </thead>\n",
       "  <tbody>\n",
       "    <tr>\n",
       "      <td>0</td>\n",
       "      <td>161903</td>\n",
       "      <td>万家行业优选混合(LOF)</td>\n",
       "      <td>2.105611-24</td>\n",
       "      <td>-0.01%</td>\n",
       "      <td>1.01%</td>\n",
       "      <td>9.01%</td>\n",
       "      <td>11.49%</td>\n",
       "      <td>37.70%</td>\n",
       "      <td>102.12%</td>\n",
       "      <td>246.29%</td>\n",
       "      <td>203.74%</td>\n",
       "      <td>87.61%</td>\n",
       "      <td>942.67%</td>\n",
       "      <td>0.15%1.50%100元</td>\n",
       "      <td>买入定投</td>\n",
       "      <td>http://fund.eastmoney.com/161903.html</td>\n",
       "    </tr>\n",
       "    <tr>\n",
       "      <td>1</td>\n",
       "      <td>100060</td>\n",
       "      <td>富国高新技术产业混合</td>\n",
       "      <td>4.409011-24</td>\n",
       "      <td>-0.23%</td>\n",
       "      <td>1.17%</td>\n",
       "      <td>10.11%</td>\n",
       "      <td>14.40%</td>\n",
       "      <td>72.16%</td>\n",
       "      <td>111.67%</td>\n",
       "      <td>233.08%</td>\n",
       "      <td>155.09%</td>\n",
       "      <td>87.54%</td>\n",
       "      <td>515.00%</td>\n",
       "      <td>0.15%1.50%100元</td>\n",
       "      <td>买入定投</td>\n",
       "      <td>http://fund.eastmoney.com/100060.html</td>\n",
       "    </tr>\n",
       "    <tr>\n",
       "      <td>2</td>\n",
       "      <td>005911</td>\n",
       "      <td>广发双擎升级混合A</td>\n",
       "      <td>3.141811-24</td>\n",
       "      <td>-0.36%</td>\n",
       "      <td>0.61%</td>\n",
       "      <td>5.81%</td>\n",
       "      <td>-1.80%</td>\n",
       "      <td>24.06%</td>\n",
       "      <td>70.98%</td>\n",
       "      <td>229.88%</td>\n",
       "      <td>---</td>\n",
       "      <td>51.36%</td>\n",
       "      <td>229.81%</td>\n",
       "      <td>0.15%1.50%100元</td>\n",
       "      <td>买入定投</td>\n",
       "      <td>http://fund.eastmoney.com/005911.html</td>\n",
       "    </tr>\n",
       "    <tr>\n",
       "      <td>3</td>\n",
       "      <td>001679</td>\n",
       "      <td>前海开源中国稀缺资产混合A</td>\n",
       "      <td>2.618011-24</td>\n",
       "      <td>0.69%</td>\n",
       "      <td>2.15%</td>\n",
       "      <td>6.55%</td>\n",
       "      <td>4.22%</td>\n",
       "      <td>49.34%</td>\n",
       "      <td>92.08%</td>\n",
       "      <td>225.62%</td>\n",
       "      <td>217.33%</td>\n",
       "      <td>82.95%</td>\n",
       "      <td>161.80%</td>\n",
       "      <td>0.15%1.50%100元</td>\n",
       "      <td>买入定投</td>\n",
       "      <td>http://fund.eastmoney.com/001679.html</td>\n",
       "    </tr>\n",
       "    <tr>\n",
       "      <td>4</td>\n",
       "      <td>002079</td>\n",
       "      <td>前海开源中国稀缺资产混合C</td>\n",
       "      <td>2.741011-24</td>\n",
       "      <td>0.70%</td>\n",
       "      <td>2.16%</td>\n",
       "      <td>6.53%</td>\n",
       "      <td>4.18%</td>\n",
       "      <td>49.29%</td>\n",
       "      <td>91.95%</td>\n",
       "      <td>225.15%</td>\n",
       "      <td>220.96%</td>\n",
       "      <td>82.86%</td>\n",
       "      <td>174.10%</td>\n",
       "      <td>0.15%1.50%100元</td>\n",
       "      <td>买入定投</td>\n",
       "      <td>http://fund.eastmoney.com/002079.html</td>\n",
       "    </tr>\n",
       "  </tbody>\n",
       "</table>\n",
       "</div>"
      ],
      "text/plain": [
       "     基金代码           基金名称      单位净值|日期    日增长率    近1周     近1月     近3月     近6月  \\\n",
       "0  161903  万家行业优选混合(LOF)  2.105611-24  -0.01%  1.01%   9.01%  11.49%  37.70%   \n",
       "1  100060     富国高新技术产业混合  4.409011-24  -0.23%  1.17%  10.11%  14.40%  72.16%   \n",
       "2  005911      广发双擎升级混合A  3.141811-24  -0.36%  0.61%   5.81%  -1.80%  24.06%   \n",
       "3  001679  前海开源中国稀缺资产混合A  2.618011-24   0.69%  2.15%   6.55%   4.22%  49.34%   \n",
       "4  002079  前海开源中国稀缺资产混合C  2.741011-24   0.70%  2.16%   6.53%   4.18%  49.29%   \n",
       "\n",
       "       近1年      近2年      近3年     今年来      成立来        手续费|起购金额    操作  \\\n",
       "0  102.12%  246.29%  203.74%  87.61%  942.67%  0.15%1.50%100元  买入定投   \n",
       "1  111.67%  233.08%  155.09%  87.54%  515.00%  0.15%1.50%100元  买入定投   \n",
       "2   70.98%  229.88%      ---  51.36%  229.81%  0.15%1.50%100元  买入定投   \n",
       "3   92.08%  225.62%  217.33%  82.95%  161.80%  0.15%1.50%100元  买入定投   \n",
       "4   91.95%  225.15%  220.96%  82.86%  174.10%  0.15%1.50%100元  买入定投   \n",
       "\n",
       "                                    基金链接  \n",
       "0  http://fund.eastmoney.com/161903.html  \n",
       "1  http://fund.eastmoney.com/100060.html  \n",
       "2  http://fund.eastmoney.com/005911.html  \n",
       "3  http://fund.eastmoney.com/001679.html  \n",
       "4  http://fund.eastmoney.com/002079.html  "
      ]
     },
     "execution_count": 4,
     "metadata": {},
     "output_type": "execute_result"
    }
   ],
   "source": [
    "# 合并为一个DataFrame\n",
    "f_df = pd.DataFrame(data=td_records,columns=table_heads)\n",
    "f_df['基金链接'] = f_name_urls\n",
    "f_df.head()"
   ]
  },
  {
   "cell_type": "code",
   "execution_count": 5,
   "metadata": {},
   "outputs": [
    {
     "data": {
      "text/plain": [
       "'2020-11-24'"
      ]
     },
     "execution_count": 5,
     "metadata": {},
     "output_type": "execute_result"
    }
   ],
   "source": [
    "yesterday = (datetime.date.today() + datetime.timedelta(-1)).strftime('%Y-%m-%d')\n",
    "yesterday"
   ]
  },
  {
   "cell_type": "code",
   "execution_count": 6,
   "metadata": {},
   "outputs": [],
   "source": [
    "# 将基金基本信息储存至本地\n",
    "f_df.to_csv('fundInfo_'+yesterday+'.csv',index=False,encoding='gbk')"
   ]
  },
  {
   "cell_type": "markdown",
   "metadata": {},
   "source": [
    "## 提取基金股票持仓数据\n",
    "提取`f_df`中每一只基金对应年份对应季度的股票重仓数据，需要包含的数据变量有：\n",
    "\n",
    "- 基金代码\n",
    "- 股票代码\n",
    "- 股票名称\n",
    "- 持仓占比\n",
    "- 持仓截止日期"
   ]
  },
  {
   "cell_type": "markdown",
   "metadata": {},
   "source": [
    "> 根据基金链接和年份获取该基金对应年份的所有持仓数据，更多持仓数据的链接可以通过基金链接来获取，如：\n",
    "**万家行业优选混合(LOF)**\n",
    "- 基金链接：http://fund.eastmoney.com/161903.html \n",
    "- 更多持仓数据链接：http://fundf10.eastmoney.com/ccmx_161903.html  \n",
    "更多持仓数据链接是在基金链接的`基金代码`前面增加了`ccmx_`，在`fund`后面增加了`f10`"
   ]
  },
  {
   "cell_type": "code",
   "execution_count": 8,
   "metadata": {},
   "outputs": [
    {
     "data": {
      "text/plain": [
       "0    http://fundf10.eastmoney.com/ccmx_161903.html\n",
       "1    http://fundf10.eastmoney.com/ccmx_100060.html\n",
       "Name: 更多持仓信息链接, dtype: object"
      ]
     },
     "execution_count": 8,
     "metadata": {},
     "output_type": "execute_result"
    }
   ],
   "source": [
    "f_df['更多持仓信息链接']= f_df['基金链接'].str.replace('http://fund.eastmoney.com/','http://fundf10.eastmoney.com/').apply(lambda x:x[:-11] + 'ccmx_' + x[-11:])\n",
    "f_df['更多持仓信息链接'].head(2)"
   ]
  },
  {
   "cell_type": "code",
   "execution_count": 9,
   "metadata": {
    "hide_output": true,
    "run_control": {
     "marked": true
    }
   },
   "outputs": [
    {
     "name": "stdout",
     "output_type": "stream",
     "text": [
      "第1只基金持仓数据已获取完成\n",
      "第2只基金持仓数据已获取完成\n",
      "第3只基金持仓数据已获取完成\n",
      "第4只基金持仓数据已获取完成\n",
      "第5只基金持仓数据已获取完成\n",
      "第6只基金持仓数据已获取完成\n",
      "第7只基金持仓数据已获取完成\n",
      "第8只基金持仓数据已获取完成\n",
      "第9只基金持仓数据已获取完成\n",
      "第10只基金持仓数据已获取完成\n",
      "第11只基金持仓数据已获取完成\n",
      "第12只基金持仓数据已获取完成\n",
      "第13只基金持仓数据已获取完成\n",
      "第14只基金持仓数据已获取完成\n",
      "第15只基金持仓数据已获取完成\n",
      "第16只基金持仓数据已获取完成\n",
      "第17只基金持仓数据已获取完成\n",
      "第18只基金持仓数据已获取完成\n",
      "第19只基金持仓数据已获取完成\n",
      "第20只基金持仓数据已获取完成\n",
      "第21只基金持仓数据已获取完成\n",
      "第22只基金持仓数据已获取完成\n",
      "第23只基金持仓数据已获取完成\n",
      "第24只基金持仓数据已获取完成\n",
      "第25只基金持仓数据已获取完成\n",
      "第26只基金持仓数据已获取完成\n",
      "第27只基金持仓数据已获取完成\n",
      "第28只基金持仓数据已获取完成\n",
      "第29只基金持仓数据已获取完成\n",
      "第30只基金持仓数据已获取完成\n",
      "第31只基金持仓数据已获取完成\n",
      "第32只基金持仓数据已获取完成\n",
      "第33只基金持仓数据已获取完成\n",
      "第34只基金持仓数据已获取完成\n",
      "第35只基金持仓数据已获取完成\n",
      "第36只基金持仓数据已获取完成\n",
      "第37只基金持仓数据已获取完成\n",
      "第38只基金持仓数据已获取完成\n",
      "第39只基金持仓数据已获取完成\n",
      "第40只基金持仓数据已获取完成\n",
      "第41只基金持仓数据已获取完成\n",
      "第42只基金持仓数据已获取完成\n",
      "第43只基金持仓数据已获取完成\n",
      "第44只基金持仓数据已获取完成\n",
      "第45只基金持仓数据已获取完成\n",
      "第46只基金持仓数据已获取完成\n",
      "第47只基金持仓数据已获取完成\n",
      "第48只基金持仓数据已获取完成\n",
      "第49只基金持仓数据已获取完成\n",
      "第50只基金持仓数据已获取完成\n",
      "第51只基金持仓数据已获取完成\n",
      "第52只基金持仓数据已获取完成\n",
      "第53只基金持仓数据已获取完成\n",
      "第54只基金持仓数据已获取完成\n",
      "第55只基金持仓数据已获取完成\n",
      "第56只基金持仓数据已获取完成\n",
      "第57只基金持仓数据已获取完成\n",
      "第58只基金持仓数据已获取完成\n",
      "第59只基金持仓数据已获取完成\n",
      "第60只基金持仓数据已获取完成\n",
      "第61只基金持仓数据已获取完成\n",
      "第62只基金持仓数据已获取完成\n",
      "第63只基金持仓数据已获取完成\n",
      "第64只基金持仓数据已获取完成\n",
      "第65只基金持仓数据已获取完成\n",
      "第66只基金持仓数据已获取完成\n",
      "第67只基金持仓数据已获取完成\n",
      "第68只基金持仓数据已获取完成\n",
      "第69只基金持仓数据已获取完成\n",
      "第70只基金持仓数据已获取完成\n",
      "第71只基金持仓数据已获取完成\n",
      "第72只基金持仓数据已获取完成\n",
      "第73只基金持仓数据已获取完成\n",
      "第74只基金持仓数据已获取完成\n",
      "第75只基金持仓数据已获取完成\n",
      "第76只基金持仓数据已获取完成\n",
      "第77只基金持仓数据已获取完成\n",
      "第78只基金持仓数据已获取完成\n",
      "第79只基金持仓数据已获取完成\n",
      "第80只基金持仓数据已获取完成\n",
      "第81只基金持仓数据已获取完成\n",
      "第82只基金持仓数据已获取完成\n",
      "第83只基金持仓数据已获取完成\n",
      "第84只基金持仓数据已获取完成\n",
      "第85只基金持仓数据已获取完成\n",
      "第86只基金持仓数据已获取完成\n",
      "第87只基金持仓数据已获取完成\n",
      "第88只基金持仓数据已获取完成\n",
      "第89只基金持仓数据已获取完成\n",
      "第90只基金持仓数据已获取完成\n",
      "第91只基金持仓数据已获取完成\n",
      "第92只基金持仓数据已获取完成\n",
      "第93只基金持仓数据已获取完成\n",
      "第94只基金持仓数据已获取完成\n",
      "第95只基金持仓数据已获取完成\n",
      "第96只基金持仓数据已获取完成\n",
      "第97只基金持仓数据已获取完成\n",
      "第98只基金持仓数据已获取完成\n",
      "第99只基金持仓数据已获取完成\n",
      "第100只基金持仓数据已获取完成\n",
      "运行时间共计：2989.38秒\n"
     ]
    }
   ],
   "source": [
    "fund_cc_urls = f_df['更多持仓信息链接']\n",
    "unsucessful_fundlid = []\n",
    "\n",
    "\n",
    "start_time = time.time()\n",
    "for i, url in enumerate(fund_cc_urls):\n",
    "\n",
    "    # 出现网络加载速度慢，过了sleeptime仍然没有加载成功，则忽略，继续爬取下一个基金信息\n",
    "    try:\n",
    "        fund_sh = getfundshareholds.Getshareholds(url,year=2020)\n",
    "        if (i > 0):\n",
    "            allfund_shs = np.append(allfund_shs,fund_sh.get_fund_shareholds(),axis=0)\n",
    "        else:\n",
    "            allfund_shs = fund_sh.get_fund_shareholds()\n",
    "        print('第{}只基金持仓数据已获取完成'.format(i+1))\n",
    "    except:\n",
    "        unsucessful_fundlid.append(i+1)\n",
    "        print('第{}只基金持仓数据没有获取完成'.format(i+1))\n",
    "        continue\n",
    "\n",
    "    time.sleep(3) # 每一只基金爬取完成休息5秒\n",
    "end_time = time.time()\n",
    "print(\"运行时间共计：{}秒\".format(round(end_time - start_time,2)))"
   ]
  },
  {
   "cell_type": "code",
   "execution_count": 10,
   "metadata": {
    "run_control": {
     "marked": false
    }
   },
   "outputs": [
    {
     "data": {
      "text/plain": [
       "[]"
      ]
     },
     "execution_count": 10,
     "metadata": {},
     "output_type": "execute_result"
    }
   ],
   "source": [
    "# 查看是否存在部分基金没有成功获取其持仓数据\n",
    "unsucessful_fundlid"
   ]
  },
  {
   "cell_type": "code",
   "execution_count": 11,
   "metadata": {},
   "outputs": [
    {
     "data": {
      "text/html": [
       "<div>\n",
       "<style scoped>\n",
       "    .dataframe tbody tr th:only-of-type {\n",
       "        vertical-align: middle;\n",
       "    }\n",
       "\n",
       "    .dataframe tbody tr th {\n",
       "        vertical-align: top;\n",
       "    }\n",
       "\n",
       "    .dataframe thead th {\n",
       "        text-align: right;\n",
       "    }\n",
       "</style>\n",
       "<table border=\"1\" class=\"dataframe\">\n",
       "  <thead>\n",
       "    <tr style=\"text-align: right;\">\n",
       "      <th></th>\n",
       "      <th>基金代码</th>\n",
       "      <th>重仓股票代码</th>\n",
       "      <th>股票名称</th>\n",
       "      <th>持仓占比</th>\n",
       "      <th>持仓截止日期</th>\n",
       "    </tr>\n",
       "  </thead>\n",
       "  <tbody>\n",
       "    <tr>\n",
       "      <td>0</td>\n",
       "      <td>161903</td>\n",
       "      <td>002594</td>\n",
       "      <td>比亚迪</td>\n",
       "      <td>9.26%</td>\n",
       "      <td>2020-09-30</td>\n",
       "    </tr>\n",
       "    <tr>\n",
       "      <td>1</td>\n",
       "      <td>161903</td>\n",
       "      <td>603986</td>\n",
       "      <td>兆易创新</td>\n",
       "      <td>8.75%</td>\n",
       "      <td>2020-09-30</td>\n",
       "    </tr>\n",
       "    <tr>\n",
       "      <td>2</td>\n",
       "      <td>161903</td>\n",
       "      <td>600588</td>\n",
       "      <td>用友网络</td>\n",
       "      <td>8.70%</td>\n",
       "      <td>2020-09-30</td>\n",
       "    </tr>\n",
       "    <tr>\n",
       "      <td>3</td>\n",
       "      <td>161903</td>\n",
       "      <td>300454</td>\n",
       "      <td>深信服</td>\n",
       "      <td>8.50%</td>\n",
       "      <td>2020-09-30</td>\n",
       "    </tr>\n",
       "    <tr>\n",
       "      <td>4</td>\n",
       "      <td>161903</td>\n",
       "      <td>300676</td>\n",
       "      <td>华大基因</td>\n",
       "      <td>6.33%</td>\n",
       "      <td>2020-09-30</td>\n",
       "    </tr>\n",
       "  </tbody>\n",
       "</table>\n",
       "</div>"
      ],
      "text/plain": [
       "     基金代码  重仓股票代码  股票名称   持仓占比      持仓截止日期\n",
       "0  161903  002594   比亚迪  9.26%  2020-09-30\n",
       "1  161903  603986  兆易创新  8.75%  2020-09-30\n",
       "2  161903  600588  用友网络  8.70%  2020-09-30\n",
       "3  161903  300454   深信服  8.50%  2020-09-30\n",
       "4  161903  300676  华大基因  6.33%  2020-09-30"
      ]
     },
     "execution_count": 11,
     "metadata": {},
     "output_type": "execute_result"
    }
   ],
   "source": [
    "# 获取完成后需要用DataFrame封装\n",
    "column_names = ['基金代码', '重仓股票代码', '股票名称', '持仓占比', '持仓截止日期']\n",
    "allfund_shs_df = pd.DataFrame(data=allfund_shs,columns=column_names)\n",
    "allfund_shs_df.head()"
   ]
  },
  {
   "cell_type": "code",
   "execution_count": 12,
   "metadata": {},
   "outputs": [],
   "source": [
    "# 储存爬取的基金持仓数据\n",
    "recent_enddate = allfund_shs_df['持仓截止日期'].unique()[0]\n",
    "allfund_shs_df.to_csv('top100fund_shs_'+str(recent_enddate)+'.csv',encoding='gbk',index=False)"
   ]
  }
 ],
 "metadata": {
  "kernelspec": {
   "display_name": "Python 3",
   "language": "python",
   "name": "python3"
  },
  "language_info": {
   "codemirror_mode": {
    "name": "ipython",
    "version": 3
   },
   "file_extension": ".py",
   "mimetype": "text/x-python",
   "name": "python",
   "nbconvert_exporter": "python",
   "pygments_lexer": "ipython3",
   "version": "3.7.4"
  },
  "toc": {
   "base_numbering": 1,
   "nav_menu": {},
   "number_sections": true,
   "sideBar": true,
   "skip_h1_title": false,
   "title_cell": "Table of Contents",
   "title_sidebar": "Contents",
   "toc_cell": false,
   "toc_position": {},
   "toc_section_display": true,
   "toc_window_display": false
  }
 },
 "nbformat": 4,
 "nbformat_minor": 2
}
